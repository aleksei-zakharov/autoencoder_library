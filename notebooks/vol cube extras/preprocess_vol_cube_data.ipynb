{
 "cells": [
  {
   "cell_type": "code",
   "execution_count": 1,
   "metadata": {},
   "outputs": [
    {
     "name": "stderr",
     "output_type": "stream",
     "text": [
      "c:\\Users\\alexi\\Documents\\All\\ETH_UZH\\MasterThesis\\_MT_Vol_cube\\code_my\\autoencoder_library\\notebooks\\vol_cube_extras\\../..\\src\\data\\vol\\preprocess_vol_cube.py:80: FutureWarning: The behavior of 'isin' with dtype=datetime64[ns] and castable values (e.g. strings) is deprecated. In a future version, these will not be considered matching by isin. Explicitly cast to the appropriate dtype before calling isin instead.\n",
      "  df_vols = df_vols[~df_vols.index.isin(OUTLIERS)]\n"
     ]
    }
   ],
   "source": [
    "import sys\n",
    "sys.path.append('../..')  # to go to the main folder of the whole project\n",
    "\n",
    "from src.data.vol.preprocess_vol_cube import preprocess_vol_cube\n",
    "preprocess_vol_cube()"
   ]
  }
 ],
 "metadata": {
  "kernelspec": {
   "display_name": "venv",
   "language": "python",
   "name": "python3"
  },
  "language_info": {
   "codemirror_mode": {
    "name": "ipython",
    "version": 3
   },
   "file_extension": ".py",
   "mimetype": "text/x-python",
   "name": "python",
   "nbconvert_exporter": "python",
   "pygments_lexer": "ipython3",
   "version": "3.11.5"
  }
 },
 "nbformat": 4,
 "nbformat_minor": 2
}
