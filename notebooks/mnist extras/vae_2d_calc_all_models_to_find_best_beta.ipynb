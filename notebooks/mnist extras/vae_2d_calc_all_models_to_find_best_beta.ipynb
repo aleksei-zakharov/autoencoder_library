{
 "cells": [
  {
   "cell_type": "markdown",
   "metadata": {},
   "source": [
    "##### Download MNIST images of handwritten digits"
   ]
  },
  {
   "cell_type": "code",
   "execution_count": 1,
   "metadata": {},
   "outputs": [],
   "source": [
    "import sys\n",
    "sys.path.append('../..')  # to go to the main folder of the whole project\n",
    "\n",
    "# Download data\n",
    "from src.data.mnist.load_mnist_data import load_mnist_data\n",
    "(x_train, y_train), (x_test, y_test) = load_mnist_data()"
   ]
  },
  {
   "cell_type": "markdown",
   "metadata": {},
   "source": [
    "##### Calculate many models with different betas to choose the best beta"
   ]
  },
  {
   "cell_type": "code",
   "execution_count": null,
   "metadata": {},
   "outputs": [],
   "source": [
    "# from src.models.vae_vanilla import VaeVanilla\n",
    "# from src.utils.save_model_and_history import save_model_and_history\n",
    "\n",
    "# BETAS = [1e-14, 1e-12, 1e-10, 1e-8, 1e-6, 1e-4, 1e-2, 1, 1e2, 1e4, 1e6] # initial guess\n",
    "# # BETAS = [0.00008, 0.00009, 0.0001, 0.00011, 0.00012, 0.00013, 0.00014, 0.00015, 0.00016, 0.00017, 0.00018, 0.00019, 0.0002]  # for mse 0.00013 optimal\n",
    "\n",
    "# EPOCHS = 150\n",
    "# BATCH_SIZE = 64\n",
    "# LOSS_TYPE = 'mse'  # bce or mse\n",
    "# HIDDEN_LAYERS_NODES = [192, 96, 48, 24, 12, 6]\n",
    "\n",
    "# for i, beta in enumerate(BETAS):\n",
    "#     print('----------------')\n",
    "#     print('beta', beta)\n",
    "#     print('--------------------')\n",
    "#     NAME = 'vae_van_mnist_2latd_' + str(EPOCHS) + 'ep_bat' + str(BATCH_SIZE) +'_' + LOSS_TYPE + '_'\n",
    "#     for i, nodes in enumerate(HIDDEN_LAYERS_NODES):\n",
    "#         NAME += str(nodes) + '_'\n",
    "#     NAME += str(beta)\n",
    "#     print(NAME)\n",
    "#     print('----------------')\n",
    "    \n",
    "#     # Create VAE and fit it\n",
    "#     vae = VaeVanilla(input_shape=x_train.shape[1:],\n",
    "#                      hidden_layers_nodes=HIDDEN_LAYERS_NODES,\n",
    "#                      latent_space_dim=2,\n",
    "#                      loss_type=LOSS_TYPE,\n",
    "#                      beta=beta)\n",
    "#     vae.compile(optimizer='adam')\n",
    "#     history = vae.fit(x_train, \n",
    "#                       epochs=EPOCHS, \n",
    "#                       verbose=0,\n",
    "#                       batch_size=BATCH_SIZE,\n",
    "#                       validation_data=x_test\n",
    "#                       )\n",
    "    \n",
    "#     save_model_and_history(vae, history, save_name=NAME)"
   ]
  }
 ],
 "metadata": {
  "kernelspec": {
   "display_name": "venv",
   "language": "python",
   "name": "python3"
  },
  "language_info": {
   "codemirror_mode": {
    "name": "ipython",
    "version": 3
   },
   "file_extension": ".py",
   "mimetype": "text/x-python",
   "name": "python",
   "nbconvert_exporter": "python",
   "pygments_lexer": "ipython3",
   "version": "3.11.5"
  }
 },
 "nbformat": 4,
 "nbformat_minor": 2
}
